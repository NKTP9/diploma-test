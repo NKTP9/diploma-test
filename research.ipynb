{
 "cells": [
  {
   "cell_type": "code",
   "execution_count": 4,
   "id": "645c8c96",
   "metadata": {},
   "outputs": [],
   "source": [
    "# Импортируем библотеки\n",
    "import pandas as pd\n",
    "import numpy as np"
   ]
  },
  {
   "cell_type": "code",
   "execution_count": 20,
   "id": "fa4d80b1",
   "metadata": {},
   "outputs": [],
   "source": [
    "# Считываем данные\n",
    "data = pd.read_csv('train.csv')"
   ]
  },
  {
   "cell_type": "code",
   "execution_count": 21,
   "id": "3a40f00d",
   "metadata": {},
   "outputs": [
    {
     "data": {
      "text/html": [
       "<div>\n",
       "<style scoped>\n",
       "    .dataframe tbody tr th:only-of-type {\n",
       "        vertical-align: middle;\n",
       "    }\n",
       "\n",
       "    .dataframe tbody tr th {\n",
       "        vertical-align: top;\n",
       "    }\n",
       "\n",
       "    .dataframe thead th {\n",
       "        text-align: right;\n",
       "    }\n",
       "</style>\n",
       "<table border=\"1\" class=\"dataframe\">\n",
       "  <thead>\n",
       "    <tr style=\"text-align: right;\">\n",
       "      <th></th>\n",
       "      <th>index</th>\n",
       "      <th>name</th>\n",
       "      <th>description</th>\n",
       "      <th>target</th>\n",
       "    </tr>\n",
       "  </thead>\n",
       "  <tbody>\n",
       "    <tr>\n",
       "      <th>0</th>\n",
       "      <td>324865089</td>\n",
       "      <td>продавец кассир</td>\n",
       "      <td>&lt;strong&gt;Обязанности:&lt;/strong&gt; &lt;ul&gt; &lt;li&gt;работа ...</td>\n",
       "      <td>-1</td>\n",
       "    </tr>\n",
       "    <tr>\n",
       "      <th>1</th>\n",
       "      <td>169467135</td>\n",
       "      <td>продавец мила (шевченко 17)</td>\n",
       "      <td>&lt;p&gt;&lt;strong&gt;Магазин МИЛА по адресу б-р Шевченко...</td>\n",
       "      <td>-1</td>\n",
       "    </tr>\n",
       "    <tr>\n",
       "      <th>2</th>\n",
       "      <td>169939030</td>\n",
       "      <td>кассир в пиццерию г витебск</td>\n",
       "      <td>&lt;p&gt;&lt;strong&gt;Устал искать работу? Может, хочешь ...</td>\n",
       "      <td>5223</td>\n",
       "    </tr>\n",
       "    <tr>\n",
       "      <th>3</th>\n",
       "      <td>31956044</td>\n",
       "      <td>начальник строительного участка</td>\n",
       "      <td>&lt;p&gt;Компании &amp;quot;Артель-Строй&amp;quot; на постоя...</td>\n",
       "      <td>-1</td>\n",
       "    </tr>\n",
       "    <tr>\n",
       "      <th>4</th>\n",
       "      <td>36781653</td>\n",
       "      <td>продавец кассир (санкт петербург бухарестская 31)</td>\n",
       "      <td>&lt;p&gt;Обязанности:&lt;/p&gt;&lt;p&gt;    •Обслуживание покупа...</td>\n",
       "      <td>-1</td>\n",
       "    </tr>\n",
       "    <tr>\n",
       "      <th>...</th>\n",
       "      <td>...</td>\n",
       "      <td>...</td>\n",
       "      <td>...</td>\n",
       "      <td>...</td>\n",
       "    </tr>\n",
       "    <tr>\n",
       "      <th>29995</th>\n",
       "      <td>50002587</td>\n",
       "      <td>офис менеджер</td>\n",
       "      <td>&lt;p&gt;&lt;strong&gt;Обязанности:&lt;/strong&gt;&lt;/p&gt; &lt;ul&gt; &lt;li&gt;...</td>\n",
       "      <td>3341</td>\n",
       "    </tr>\n",
       "    <tr>\n",
       "      <th>29996</th>\n",
       "      <td>126009334</td>\n",
       "      <td>дворник (разнорабочий)</td>\n",
       "      <td>&lt;p&gt;В группу компаний ООО \"Ю-МЕТ\" требуется раз...</td>\n",
       "      <td>-1</td>\n",
       "    </tr>\n",
       "    <tr>\n",
       "      <th>29997</th>\n",
       "      <td>183546781</td>\n",
       "      <td>офис менеджер</td>\n",
       "      <td>&lt;strong&gt;Обязанности:&lt;/strong&gt; &lt;ul&gt; &lt;li&gt;прием и...</td>\n",
       "      <td>3341</td>\n",
       "    </tr>\n",
       "    <tr>\n",
       "      <th>29998</th>\n",
       "      <td>123274416</td>\n",
       "      <td>разнорабочий</td>\n",
       "      <td>Производить распиловку бревен, брусьев и загот...</td>\n",
       "      <td>-1</td>\n",
       "    </tr>\n",
       "    <tr>\n",
       "      <th>29999</th>\n",
       "      <td>39324585</td>\n",
       "      <td>дояр</td>\n",
       "      <td>Соблюдение должностных инструкций и правил вну...</td>\n",
       "      <td>6121</td>\n",
       "    </tr>\n",
       "  </tbody>\n",
       "</table>\n",
       "<p>30000 rows × 4 columns</p>\n",
       "</div>"
      ],
      "text/plain": [
       "           index                                               name  \\\n",
       "0      324865089                                    продавец кассир   \n",
       "1      169467135                        продавец мила (шевченко 17)   \n",
       "2      169939030                        кассир в пиццерию г витебск   \n",
       "3       31956044                    начальник строительного участка   \n",
       "4       36781653  продавец кассир (санкт петербург бухарестская 31)   \n",
       "...          ...                                                ...   \n",
       "29995   50002587                                      офис менеджер   \n",
       "29996  126009334                             дворник (разнорабочий)   \n",
       "29997  183546781                                      офис менеджер   \n",
       "29998  123274416                                       разнорабочий   \n",
       "29999   39324585                                               дояр   \n",
       "\n",
       "                                             description  target  \n",
       "0      <strong>Обязанности:</strong> <ul> <li>работа ...      -1  \n",
       "1      <p><strong>Магазин МИЛА по адресу б-р Шевченко...      -1  \n",
       "2      <p><strong>Устал искать работу? Может, хочешь ...    5223  \n",
       "3      <p>Компании &quot;Артель-Строй&quot; на постоя...      -1  \n",
       "4      <p>Обязанности:</p><p>    •Обслуживание покупа...      -1  \n",
       "...                                                  ...     ...  \n",
       "29995  <p><strong>Обязанности:</strong></p> <ul> <li>...    3341  \n",
       "29996  <p>В группу компаний ООО \"Ю-МЕТ\" требуется раз...      -1  \n",
       "29997  <strong>Обязанности:</strong> <ul> <li>прием и...    3341  \n",
       "29998  Производить распиловку бревен, брусьев и загот...      -1  \n",
       "29999  Соблюдение должностных инструкций и правил вну...    6121  \n",
       "\n",
       "[30000 rows x 4 columns]"
      ]
     },
     "execution_count": 21,
     "metadata": {},
     "output_type": "execute_result"
    }
   ],
   "source": [
    "# Посмотрим на данные\n",
    "data"
   ]
  },
  {
   "cell_type": "code",
   "execution_count": 22,
   "id": "a46e4fa3",
   "metadata": {},
   "outputs": [
    {
     "data": {
      "text/plain": [
       "-1       14350\n",
       " 6121     1593\n",
       " 5223     1328\n",
       " 9613      641\n",
       " 2411      578\n",
       "         ...  \n",
       " 1345        1\n",
       " 3342        1\n",
       " 5222        1\n",
       " 7411        1\n",
       " 3334        1\n",
       "Name: target, Length: 131, dtype: int64"
      ]
     },
     "execution_count": 22,
     "metadata": {},
     "output_type": "execute_result"
    }
   ],
   "source": [
    "# Посмотрим количество текстов пренадлежащих разным классам\n",
    "data['target'].value_counts()"
   ]
  },
  {
   "cell_type": "markdown",
   "id": "6d63a307",
   "metadata": {},
   "source": [
    "## Построим первичную модель"
   ]
  },
  {
   "cell_type": "code",
   "execution_count": 5,
   "id": "426bca00",
   "metadata": {},
   "outputs": [],
   "source": [
    "# Импортируем нужные билиотеки\n",
    "import pandas as pd\n",
    "import nltk\n",
    "import re\n",
    "from sklearn.model_selection import train_test_split\n",
    "from sklearn.feature_extraction.text import TfidfVectorizer\n",
    "from sklearn.linear_model import LogisticRegression\n",
    "from sklearn.pipeline import Pipeline\n",
    "from sklearn.metrics import accuracy_score, classification_report\n",
    "from nltk.tokenize import word_tokenize\n",
    "from nltk.corpus import stopwords\n",
    "from nltk.stem import SnowballStemmer, WordNetLemmatizer\n",
    "from nltk.corpus import wordnet\n",
    "from pymystem3 import Mystem"
   ]
  },
  {
   "cell_type": "code",
   "execution_count": 23,
   "id": "bb8ed9cb",
   "metadata": {},
   "outputs": [],
   "source": [
    "def preprocess_text(text): \n",
    "    # удаление HTML/XML тэгов\n",
    "    text = re.sub('<[^>]+>', '', text)\n",
    "\n",
    "    # удаление символов кроме букв\n",
    "    text = re.sub('[^a-zA-Zа-яА-Я]', ' ', text)\n",
    "    \n",
    "    # приведение текста к нижнему регистру\n",
    "    text = text.lower()\n",
    "    \n",
    "    # токенизация\n",
    "    words = word_tokenize(text)\n",
    "\n",
    "    # Удаление стоп слов\n",
    "    stop_words = set(stopwords.words('russian'))\n",
    "    words = [w for w in words if w not in stop_words]\n",
    "\n",
    "    # лемматизация\n",
    "    m = Mystem()\n",
    "    lemmatized_words = [''.join(m.lemmatize(w)).strip() for w in words]\n",
    "\n",
    "    return ' '.join(lemmatized_words)"
   ]
  },
  {
   "cell_type": "code",
   "execution_count": null,
   "id": "eb93ba20",
   "metadata": {},
   "outputs": [],
   "source": [
    "%%time\n",
    "# Загружаем данные\n",
    "data = pd.read_csv('train.csv', index_col='index')\n",
    "\n",
    "# комбинируем название и описание в один текстовый столбец\n",
    "data['text'] = data['name'].fillna('') + ' ' + data['description'].fillna('')\n",
    "data.drop(['name', 'description'], axis=1, inplace=True)\n",
    "\n",
    "# Обработка текста\n",
    "data['text'] = data['text'].apply(preprocess_text)"
   ]
  },
  {
   "cell_type": "code",
   "execution_count": 9,
   "id": "5b721629",
   "metadata": {},
   "outputs": [
    {
     "data": {
      "text/html": [
       "<div>\n",
       "<style scoped>\n",
       "    .dataframe tbody tr th:only-of-type {\n",
       "        vertical-align: middle;\n",
       "    }\n",
       "\n",
       "    .dataframe tbody tr th {\n",
       "        vertical-align: top;\n",
       "    }\n",
       "\n",
       "    .dataframe thead th {\n",
       "        text-align: right;\n",
       "    }\n",
       "</style>\n",
       "<table border=\"1\" class=\"dataframe\">\n",
       "  <thead>\n",
       "    <tr style=\"text-align: right;\">\n",
       "      <th></th>\n",
       "      <th>target</th>\n",
       "      <th>text</th>\n",
       "    </tr>\n",
       "    <tr>\n",
       "      <th>index</th>\n",
       "      <th></th>\n",
       "      <th></th>\n",
       "    </tr>\n",
       "  </thead>\n",
       "  <tbody>\n",
       "    <tr>\n",
       "      <th>324865089</th>\n",
       "      <td>-1</td>\n",
       "      <td>продавец кассир обязанности работа кассой откр...</td>\n",
       "    </tr>\n",
       "    <tr>\n",
       "      <th>169467135</th>\n",
       "      <td>-1</td>\n",
       "      <td>продавец мила шевченко магазин мила адресу б р...</td>\n",
       "    </tr>\n",
       "    <tr>\n",
       "      <th>169939030</th>\n",
       "      <td>5223</td>\n",
       "      <td>кассир пиццерию г витебск устал искать работу ...</td>\n",
       "    </tr>\n",
       "    <tr>\n",
       "      <th>31956044</th>\n",
       "      <td>-1</td>\n",
       "      <td>начальник строительного участка компании quot ...</td>\n",
       "    </tr>\n",
       "    <tr>\n",
       "      <th>36781653</th>\n",
       "      <td>-1</td>\n",
       "      <td>продавец кассир санкт петербург бухарестская о...</td>\n",
       "    </tr>\n",
       "  </tbody>\n",
       "</table>\n",
       "</div>"
      ],
      "text/plain": [
       "           target                                               text\n",
       "index                                                               \n",
       "324865089      -1  продавец кассир обязанности работа кассой откр...\n",
       "169467135      -1  продавец мила шевченко магазин мила адресу б р...\n",
       "169939030    5223  кассир пиццерию г витебск устал искать работу ...\n",
       "31956044       -1  начальник строительного участка компании quot ...\n",
       "36781653       -1  продавец кассир санкт петербург бухарестская о..."
      ]
     },
     "execution_count": 9,
     "metadata": {},
     "output_type": "execute_result"
    }
   ],
   "source": [
    "data.head()"
   ]
  },
  {
   "cell_type": "code",
   "execution_count": 10,
   "id": "ae85a2d9",
   "metadata": {},
   "outputs": [],
   "source": [
    "# Делим данные на тренировочный и тестовый датасет\n",
    "X_train, X_val, y_train, y_val = train_test_split(data['text'], data['target'], test_size=0.2, random_state=42)"
   ]
  },
  {
   "cell_type": "code",
   "execution_count": null,
   "id": "0b8c8767",
   "metadata": {
    "scrolled": true
   },
   "outputs": [],
   "source": [
    "# Делим данные на тренировочный и тестовый датасет\n",
    "X_train, X_val, y_train, y_val = train_test_split(data['text'], data['target'], test_size=0.2, random_state=42)\n",
    "\n",
    "# Создаем цепочку из векторизатора и модели логистической регрессии\n",
    "pipeline = Pipeline([\n",
    "    ('tfidf', TfidfVectorizer()),\n",
    "    ('classifier', LogisticRegression(solver='liblinear')),\n",
    "])\n",
    "\n",
    "# Тренируем модель\n",
    "pipeline.fit(X_train, y_train)\n",
    "\n",
    "# Оцениваем модель на валидационом датасете\n",
    "y_pred = pipeline.predict(X_val)\n",
    "accuracy = accuracy_score(y_val, y_pred)\n",
    "print(f'Accuracy: {accuracy:.2f}')\n",
    "print(classification_report(y_val, y_pred))"
   ]
  },
  {
   "cell_type": "markdown",
   "id": "ac01e940",
   "metadata": {},
   "source": [
    "## Используем предобученные векторизаторы"
   ]
  },
  {
   "cell_type": "code",
   "execution_count": 10,
   "id": "b80ebd5a",
   "metadata": {},
   "outputs": [],
   "source": [
    "# Устанавливаем библиотеку\n",
    "if 0:\n",
    "    !pip install fasttext"
   ]
  },
  {
   "cell_type": "code",
   "execution_count": 1,
   "id": "43a91874",
   "metadata": {},
   "outputs": [
    {
     "data": {
      "text/plain": [
       "'cc.ru.300.bin'"
      ]
     },
     "execution_count": 1,
     "metadata": {},
     "output_type": "execute_result"
    }
   ],
   "source": [
    "# Импортируем библиотеки\n",
    "import fasttext\n",
    "import fasttext.util\n",
    "\n",
    "# Скачиваем русскую модель\n",
    "fasttext.util.download_model('ru', if_exists='ignore')"
   ]
  },
  {
   "cell_type": "code",
   "execution_count": 2,
   "id": "ecbe625e",
   "metadata": {},
   "outputs": [
    {
     "name": "stderr",
     "output_type": "stream",
     "text": [
      "Warning : `load_model` does not return WordVectorModel or SupervisedModel any more, but a `FastText` object which is very similar.\n"
     ]
    }
   ],
   "source": [
    "# Загружаем готовые FastText числовые векторы\n",
    "fasttext_model = fasttext.load_model('cc.ru.300.bin')\n",
    "\n",
    "def fasttext_vectorizer(texts):\n",
    "    '''\n",
    "    Данная функция векторизует текстовые данные с помощью предобученной модели FastText, \n",
    "    которая преобразует тексты в векторы фиксированной размерности. \n",
    "    Входным параметром является список текстов, на выходе функция возвращает массив с векторными представлениями текстов, \n",
    "    где каждая строка соответствует одному тексту. Каждый вектор имеет размерность, \n",
    "    равную размерности пространства эмбеддингов, которое определяется моделью FastText.'''\n",
    "    embeddings = np.zeros((len(texts), fasttext_model.get_dimension()))\n",
    "    for i, text in enumerate(texts):\n",
    "        embeddings[i] = fasttext_model.get_sentence_vector(text)\n",
    "    return embeddings"
   ]
  },
  {
   "cell_type": "code",
   "execution_count": 7,
   "id": "eedd6573",
   "metadata": {},
   "outputs": [
    {
     "data": {
      "text/plain": [
       "array([[-0.03168774, -0.05454991,  0.01556752, ...,  0.11077441,\n",
       "         0.03907987, -0.05253111],\n",
       "       [-0.00180265, -0.04640927, -0.01071023, ...,  0.05638637,\n",
       "        -0.09506392, -0.13391244],\n",
       "       [ 0.03945547, -0.03289286,  0.01155682, ...,  0.01053472,\n",
       "        -0.04632451, -0.0313887 ],\n",
       "       ...,\n",
       "       [ 0.0173933 ,  0.01945579,  0.02562522, ..., -0.06275136,\n",
       "         0.0536981 , -0.05274193],\n",
       "       [ 0.02949647, -0.02347934, -0.00222554, ...,  0.02867848,\n",
       "        -0.12651373, -0.03364033],\n",
       "       [-0.00224334, -0.03744297, -0.10470287, ...,  0.03128449,\n",
       "         0.0137482 , -0.1214609 ]])"
      ]
     },
     "execution_count": 7,
     "metadata": {},
     "output_type": "execute_result"
    }
   ],
   "source": [
    "vect_text = fasttext_vectorizer('работа рядом домом учебой график стабильная выплата заработной платы раза месяц')\n",
    "vect_text"
   ]
  },
  {
   "cell_type": "code",
   "execution_count": 13,
   "id": "d82ad1d1",
   "metadata": {},
   "outputs": [
    {
     "name": "stdout",
     "output_type": "stream",
     "text": [
      "Accuracy: 0.48\n",
      "              precision    recall  f1-score   support\n",
      "\n",
      "          -1       0.48      0.96      0.64      2870\n",
      "        1120       0.00      0.00      0.00        86\n",
      "        1211       0.00      0.00      0.00         2\n",
      "        1213       0.00      0.00      0.00        35\n",
      "        1219       0.00      0.00      0.00         8\n",
      "        1221       0.00      0.00      0.00        43\n",
      "        1321       0.00      0.00      0.00         4\n",
      "        1323       0.00      0.00      0.00         9\n",
      "        1324       0.00      0.00      0.00         1\n",
      "        1325       0.00      0.00      0.00         2\n",
      "        1342       0.00      0.00      0.00         1\n",
      "        1349       0.00      0.00      0.00        35\n",
      "        1420       0.00      0.00      0.00        40\n",
      "        2149       0.00      0.00      0.00        10\n",
      "        2211       1.00      0.02      0.03        59\n",
      "        2240       0.00      0.00      0.00        35\n",
      "        2269       0.00      0.00      0.00        28\n",
      "        2411       0.86      0.05      0.10       113\n",
      "        2413       0.00      0.00      0.00         1\n",
      "        2432       0.00      0.00      0.00        23\n",
      "        2433       0.00      0.00      0.00        60\n",
      "        2522       0.00      0.00      0.00         7\n",
      "        3123       0.00      0.00      0.00        31\n",
      "        3221       0.25      0.01      0.02       112\n",
      "        3252       0.00      0.00      0.00         8\n",
      "        3255       0.00      0.00      0.00         8\n",
      "        3312       0.00      0.00      0.00         4\n",
      "        3323       0.00      0.00      0.00        22\n",
      "        3331       0.00      0.00      0.00        36\n",
      "        3341       0.00      0.00      0.00        50\n",
      "        3343       0.00      0.00      0.00        37\n",
      "        3431       0.00      0.00      0.00         1\n",
      "        4110       0.00      0.00      0.00         9\n",
      "        4120       0.00      0.00      0.00        94\n",
      "        4132       0.00      0.00      0.00         9\n",
      "        4222       0.00      0.00      0.00        86\n",
      "        4223       0.00      0.00      0.00         8\n",
      "        4224       0.00      0.00      0.00         6\n",
      "        4323       0.00      0.00      0.00        58\n",
      "        4412       0.00      0.00      0.00        19\n",
      "        5120       0.00      0.00      0.00        68\n",
      "        5131       0.00      0.00      0.00        16\n",
      "        5132       0.00      0.00      0.00         7\n",
      "        5153       0.00      0.00      0.00         7\n",
      "        5223       0.42      0.02      0.03       285\n",
      "        5412       0.00      0.00      0.00        29\n",
      "        5414       0.00      0.00      0.00        32\n",
      "        6111       0.00      0.00      0.00        10\n",
      "        6112       0.00      0.00      0.00         8\n",
      "        6121       0.53      0.33      0.41       307\n",
      "        6210       0.44      0.10      0.16        84\n",
      "        6221       0.00      0.00      0.00        24\n",
      "        6222       0.00      0.00      0.00        13\n",
      "        7112       0.00      0.00      0.00        10\n",
      "        7114       0.00      0.00      0.00        13\n",
      "        7115       0.00      0.00      0.00         8\n",
      "        7119       0.00      0.00      0.00         9\n",
      "        7126       0.00      0.00      0.00         9\n",
      "        7131       0.00      0.00      0.00        15\n",
      "        7212       0.60      0.04      0.07        81\n",
      "        7222       0.00      0.00      0.00        24\n",
      "        7223       0.00      0.00      0.00        49\n",
      "        7231       0.00      0.00      0.00        11\n",
      "        7412       0.00      0.00      0.00        61\n",
      "        7512       0.00      0.00      0.00        16\n",
      "        7533       0.00      0.00      0.00        16\n",
      "        8111       0.00      0.00      0.00         1\n",
      "        8182       0.00      0.00      0.00         8\n",
      "        8183       0.00      0.00      0.00         2\n",
      "        8211       0.00      0.00      0.00         2\n",
      "        8311       0.00      0.00      0.00         1\n",
      "        8321       0.00      0.00      0.00        44\n",
      "        8322       0.00      0.00      0.00        39\n",
      "        8331       0.00      0.00      0.00         7\n",
      "        8332       0.00      0.00      0.00        14\n",
      "        8341       0.00      0.00      0.00        13\n",
      "        8342       0.00      0.00      0.00        43\n",
      "        8343       0.00      0.00      0.00        58\n",
      "        9112       0.00      0.00      0.00        11\n",
      "        9321       0.00      0.00      0.00        26\n",
      "        9333       0.33      0.01      0.02        82\n",
      "        9334       0.00      0.00      0.00        51\n",
      "        9412       0.00      0.00      0.00        35\n",
      "        9613       0.62      0.09      0.16       108\n",
      "        9621       0.00      0.00      0.00        89\n",
      "        9622       0.00      0.00      0.00        84\n",
      "\n",
      "    accuracy                           0.48      6000\n",
      "   macro avg       0.06      0.02      0.02      6000\n",
      "weighted avg       0.34      0.48      0.34      6000\n",
      "\n"
     ]
    },
    {
     "name": "stderr",
     "output_type": "stream",
     "text": [
      "C:\\Users\\Nikit\\anaconda3\\lib\\site-packages\\sklearn\\metrics\\_classification.py:1318: UndefinedMetricWarning: Precision and F-score are ill-defined and being set to 0.0 in labels with no predicted samples. Use `zero_division` parameter to control this behavior.\n",
      "  _warn_prf(average, modifier, msg_start, len(result))\n",
      "C:\\Users\\Nikit\\anaconda3\\lib\\site-packages\\sklearn\\metrics\\_classification.py:1318: UndefinedMetricWarning: Precision and F-score are ill-defined and being set to 0.0 in labels with no predicted samples. Use `zero_division` parameter to control this behavior.\n",
      "  _warn_prf(average, modifier, msg_start, len(result))\n",
      "C:\\Users\\Nikit\\anaconda3\\lib\\site-packages\\sklearn\\metrics\\_classification.py:1318: UndefinedMetricWarning: Precision and F-score are ill-defined and being set to 0.0 in labels with no predicted samples. Use `zero_division` parameter to control this behavior.\n",
      "  _warn_prf(average, modifier, msg_start, len(result))\n"
     ]
    }
   ],
   "source": [
    "# Применение функций векторизаторов к данным\n",
    "X_train_embeddings = fasttext_vectorizer(X_train)\n",
    "X_val_embeddings = fasttext_vectorizer(X_val)\n",
    "\n",
    "# Тренируем модель Логистической Регрессии\n",
    "classifier = LogisticRegression(solver='liblinear')\n",
    "classifier.fit(X_train_embeddings, y_train)\n",
    "\n",
    "# Оцениваем модель на валидационом датасете\n",
    "y_pred = classifier.predict(X_val_embeddings)\n",
    "accuracy = accuracy_score(y_val, y_pred)\n",
    "print(f'Accuracy: {accuracy:.2f}')\n",
    "print(classification_report(y_val, y_pred))\n"
   ]
  },
  {
   "cell_type": "code",
   "execution_count": 12,
   "id": "574b48c5",
   "metadata": {},
   "outputs": [],
   "source": [
    "# Создаем копию датасета \n",
    "data_new = data.copy()"
   ]
  },
  {
   "cell_type": "code",
   "execution_count": 13,
   "id": "552fc625",
   "metadata": {},
   "outputs": [],
   "source": [
    "# Создадим датасет, где у нас у класса минимум 3 элемента\n",
    "col = data_new['target'].value_counts()\n",
    "bad_classes = col.loc[col < 3].index"
   ]
  },
  {
   "cell_type": "code",
   "execution_count": 14,
   "id": "1e913c26",
   "metadata": {},
   "outputs": [],
   "source": [
    "# Присвоим -2\n",
    "data_new.loc[data_new['target'].isin(bad_classes), 'target'] = -2"
   ]
  },
  {
   "cell_type": "code",
   "execution_count": 15,
   "id": "9ed7ff82",
   "metadata": {},
   "outputs": [
    {
     "data": {
      "text/plain": [
       "-1       14350\n",
       " 6121     1593\n",
       " 5223     1328\n",
       " 9613      641\n",
       " 2411      578\n",
       "         ...  \n",
       " 8111        3\n",
       " 1223        3\n",
       " 3111        3\n",
       " 2413        3\n",
       " 7521        3\n",
       "Name: target, Length: 93, dtype: int64"
      ]
     },
     "execution_count": 15,
     "metadata": {},
     "output_type": "execute_result"
    }
   ],
   "source": [
    "# Смотрим на результат\n",
    "data_new['target'].value_counts()"
   ]
  },
  {
   "cell_type": "code",
   "execution_count": 16,
   "id": "eca17567",
   "metadata": {},
   "outputs": [],
   "source": [
    "# Уберем класс -1 и -2\n",
    "data_new = data_new.loc[(data_new['target'] != -1) & (data_new['target'] != -2)]"
   ]
  },
  {
   "cell_type": "code",
   "execution_count": null,
   "id": "584d5c02",
   "metadata": {},
   "outputs": [],
   "source": [
    "from catboost import CatBoostClassifier\n",
    "from sklearn.utils import resample\n",
    "import pickle\n",
    "\n",
    "# Делим данные на тренировочную и тестовую выборку\n",
    "X_train, X_val, y_train, y_val = train_test_split(data_new['text'], data_new['target'], test_size=0.2, \n",
    "                                                  random_state=19, stratify=data_new['target'])\n",
    "\n",
    "# Конвертируем текста в эмбединги\n",
    "X_train_embeddings = fasttext_vectorizer(X_train)\n",
    "X_val_embeddings = fasttext_vectorizer(X_val)\n",
    "\n",
    "# Тренируем CatBoost classifier\n",
    "classifier = CatBoostClassifier(iterations=100, eval_metric='Accuracy', use_best_model=True, random_seed=19)\n",
    "classifier.fit(X_train_embeddings, y_train, eval_set=(X_val_embeddings, y_val))\n",
    "\n",
    "# Сохраняем обученную модель с использованием pickle\n",
    "pickle_file = \"catboost_classifier.pkl\"\n",
    "with open(pickle_file, \"wb\") as f:\n",
    "    pickle.dump(classifier, f)\n",
    "\n",
    "# Оценим модель\n",
    "y_pred = classifier.predict(X_val_embeddings)\n",
    "accuracy = accuracy_score(y_val, y_pred)\n",
    "print(f'Accuracy: {accuracy:.2f}')\n",
    "print(classification_report(y_val, y_pred))"
   ]
  }
 ],
 "metadata": {
  "kernelspec": {
   "display_name": "Python 3 (ipykernel)",
   "language": "python",
   "name": "python3"
  },
  "language_info": {
   "codemirror_mode": {
    "name": "ipython",
    "version": 3
   },
   "file_extension": ".py",
   "mimetype": "text/x-python",
   "name": "python",
   "nbconvert_exporter": "python",
   "pygments_lexer": "ipython3",
   "version": "3.9.13"
  }
 },
 "nbformat": 4,
 "nbformat_minor": 5
}
